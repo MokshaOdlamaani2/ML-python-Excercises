{
  "nbformat": 4,
  "nbformat_minor": 0,
  "metadata": {
    "colab": {
      "provenance": []
    },
    "kernelspec": {
      "name": "python3",
      "display_name": "Python 3"
    },
    "language_info": {
      "name": "python"
    }
  },
  "cells": [
    {
      "cell_type": "code",
      "execution_count": 1,
      "metadata": {
        "colab": {
          "base_uri": "https://localhost:8080/"
        },
        "id": "xYAPgXlj6tQj",
        "outputId": "99fed6b4-df5c-49ab-cc5d-524404108e2f"
      },
      "outputs": [
        {
          "output_type": "stream",
          "name": "stdout",
          "text": [
            "['__add__', '__class__', '__contains__', '__delattr__', '__dir__', '__doc__', '__eq__', '__format__', '__ge__', '__getattribute__', '__getitem__', '__getnewargs__', '__gt__', '__hash__', '__init__', '__init_subclass__', '__iter__', '__le__', '__len__', '__lt__', '__mod__', '__mul__', '__ne__', '__new__', '__reduce__', '__reduce_ex__', '__repr__', '__rmod__', '__rmul__', '__setattr__', '__sizeof__', '__str__', '__subclasshook__', 'capitalize', 'casefold', 'center', 'count', 'encode', 'endswith', 'expandtabs', 'find', 'format', 'format_map', 'index', 'isalnum', 'isalpha', 'isascii', 'isdecimal', 'isdigit', 'isidentifier', 'islower', 'isnumeric', 'isprintable', 'isspace', 'istitle', 'isupper', 'join', 'ljust', 'lower', 'lstrip', 'maketrans', 'partition', 'removeprefix', 'removesuffix', 'replace', 'rfind', 'rindex', 'rjust', 'rpartition', 'rsplit', 'rstrip', 'split', 'splitlines', 'startswith', 'strip', 'swapcase', 'title', 'translate', 'upper', 'zfill']\n"
          ]
        }
      ],
      "source": [
        "print(dir(str))"
      ]
    },
    {
      "cell_type": "code",
      "source": [
        "a=\"Hello world\"\n",
        "b=a.lower()\n",
        "print(b)\n",
        "c=a.title()\n",
        "print(c)\n",
        "d=a.replace(\"Hello\",\"hi\")\n",
        "print(d)\n"
      ],
      "metadata": {
        "colab": {
          "base_uri": "https://localhost:8080/"
        },
        "id": "sjr2anxO7IYJ",
        "outputId": "62a598a7-db70-4d46-e023-5d1b83cda2c7"
      },
      "execution_count": 3,
      "outputs": [
        {
          "output_type": "stream",
          "name": "stdout",
          "text": [
            "hello world\n",
            "Hello World\n",
            "hi world\n"
          ]
        }
      ]
    },
    {
      "cell_type": "code",
      "source": [
        "a='12345'\n",
        "b=a.isdigit()\n",
        "print(b)\n",
        "a=range(10)\n",
        "c=list(a)\n",
        "print(c)"
      ],
      "metadata": {
        "colab": {
          "base_uri": "https://localhost:8080/"
        },
        "id": "zqozdgML7eLu",
        "outputId": "fe7b5f37-846c-4b30-84ba-4b45cbcc977d"
      },
      "execution_count": 6,
      "outputs": [
        {
          "output_type": "stream",
          "name": "stdout",
          "text": [
            "True\n",
            "[0, 1, 2, 3, 4, 5, 6, 7, 8, 9]\n"
          ]
        }
      ]
    },
    {
      "cell_type": "code",
      "source": [
        "def add_num(a,b):\n",
        "  res=a+b\n",
        "  return res\n",
        "print(add_num(2,7))\n"
      ],
      "metadata": {
        "colab": {
          "base_uri": "https://localhost:8080/"
        },
        "id": "4JGSugX27mkn",
        "outputId": "60eb6201-45cf-4b56-e997-ce7e70ac1f79"
      },
      "execution_count": 9,
      "outputs": [
        {
          "output_type": "stream",
          "name": "stdout",
          "text": [
            "9\n"
          ]
        }
      ]
    },
    {
      "cell_type": "code",
      "source": [
        "def greet(name,greeting=\"hello\"):\n",
        "  print(f\"{greeting},{name}\")\n",
        "\n",
        "greet(\"nm\")"
      ],
      "metadata": {
        "colab": {
          "base_uri": "https://localhost:8080/"
        },
        "id": "iPqRDmFG_mQJ",
        "outputId": "035c37ce-2a69-4a89-eaaa-35c006130215"
      },
      "execution_count": 11,
      "outputs": [
        {
          "output_type": "stream",
          "name": "stdout",
          "text": [
            "hello,nm\n"
          ]
        }
      ]
    },
    {
      "cell_type": "code",
      "source": [
        "def calc(*args):\n",
        "  total=sum(args)\n",
        "  return total\n",
        "print(calc(1,2,6,8))"
      ],
      "metadata": {
        "colab": {
          "base_uri": "https://localhost:8080/"
        },
        "id": "ZdjRSqi6Av_s",
        "outputId": "b20a6ad4-d178-435d-da16-638881a81930"
      },
      "execution_count": 12,
      "outputs": [
        {
          "output_type": "stream",
          "name": "stdout",
          "text": [
            "17\n"
          ]
        }
      ]
    },
    {
      "cell_type": "code",
      "source": [
        "crct_user=\"admin\"\n",
        "crct_password=\"1234\"\n",
        "while True:\n",
        "  user=input(\"Enter name: \")\n",
        "  password=input(\"Enter password: \")\n",
        "  if user==crct_user and password==crct_password:\n",
        "    print(\"Login successful\")\n",
        "    break\n",
        "  else:\n",
        "    print(\"Try again\")\n"
      ],
      "metadata": {
        "colab": {
          "base_uri": "https://localhost:8080/"
        },
        "id": "gRAy5mPzBJ76",
        "outputId": "05c847eb-57f7-4c7b-e3f7-50a022947cb5"
      },
      "execution_count": 16,
      "outputs": [
        {
          "output_type": "stream",
          "name": "stdout",
          "text": [
            "Enter name: moksha\n",
            "Enter password: 123\n",
            "Try again\n",
            "Enter name: admin\n",
            "Enter password: 1234\n",
            "Login successful\n"
          ]
        }
      ]
    },
    {
      "cell_type": "code",
      "source": [
        "#predefined\n",
        "a=\"3\"\n",
        "if a.isnumeric():\n",
        "  print(\"is numeric\")"
      ],
      "metadata": {
        "colab": {
          "base_uri": "https://localhost:8080/"
        },
        "id": "-j0IKSN0DyU9",
        "outputId": "7a137cca-32aa-4d20-be98-aeaf6341169b"
      },
      "execution_count": 19,
      "outputs": [
        {
          "output_type": "stream",
          "name": "stdout",
          "text": [
            "is numeric\n"
          ]
        }
      ]
    },
    {
      "cell_type": "code",
      "source": [
        "#function\n",
        "def mul(a,b):\n",
        "  m=a*b\n",
        "  return m\n",
        "mul(4,9)\n"
      ],
      "metadata": {
        "colab": {
          "base_uri": "https://localhost:8080/"
        },
        "id": "SUZ4my7KFPKq",
        "outputId": "4c994c47-d048-4eb8-96fc-e4a48601a3c3"
      },
      "execution_count": 20,
      "outputs": [
        {
          "output_type": "execute_result",
          "data": {
            "text/plain": [
              "36"
            ]
          },
          "metadata": {},
          "execution_count": 20
        }
      ]
    }
  ]
}