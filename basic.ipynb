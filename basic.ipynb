{
  "nbformat": 4,
  "nbformat_minor": 0,
  "metadata": {
    "colab": {
      "provenance": []
    },
    "kernelspec": {
      "name": "python3",
      "display_name": "Python 3"
    },
    "language_info": {
      "name": "python"
    }
  },
  "cells": [
    {
      "cell_type": "code",
      "execution_count": null,
      "metadata": {
        "colab": {
          "base_uri": "https://localhost:8080/"
        },
        "id": "Ed6nAjDX5WTR",
        "outputId": "262c9134-d6b6-47d6-c54e-86215eacbdf4"
      },
      "outputs": [
        {
          "output_type": "stream",
          "name": "stdout",
          "text": [
            "[1, 3, 9, 1, 3, 9]\n"
          ]
        }
      ],
      "source": [
        "l=[1,3,9]\n",
        "l1=[1,3,9]\n",
        "print(l+l1)"
      ]
    },
    {
      "cell_type": "code",
      "source": [
        "l1=[1,3,9]*3\n",
        "print(l1)"
      ],
      "metadata": {
        "colab": {
          "base_uri": "https://localhost:8080/"
        },
        "id": "APtPUZR16EsE",
        "outputId": "f0c6b9b2-d95e-4f52-8eaf-5292aa481594"
      },
      "execution_count": null,
      "outputs": [
        {
          "output_type": "stream",
          "name": "stdout",
          "text": [
            "[1, 3, 9, 1, 3, 9, 1, 3, 9]\n"
          ]
        }
      ]
    },
    {
      "cell_type": "code",
      "source": [
        "l1=[1,3,9,\"hello\"]\n",
        "print(l1[3])\n",
        "print(l1[1:])\n",
        "print(l1[:-1])\n"
      ],
      "metadata": {
        "colab": {
          "base_uri": "https://localhost:8080/"
        },
        "id": "ZKaQ0Y7I6a88",
        "outputId": "e3b440b8-06d1-4bba-a093-4ff1548bbde4"
      },
      "execution_count": null,
      "outputs": [
        {
          "output_type": "stream",
          "name": "stdout",
          "text": [
            "hello\n",
            "[3, 9, 'hello']\n",
            "[1, 3, 9]\n"
          ]
        }
      ]
    },
    {
      "cell_type": "code",
      "source": [
        "a=[1,2,3]\n",
        "b=a[:]\n",
        "print(b)"
      ],
      "metadata": {
        "colab": {
          "base_uri": "https://localhost:8080/"
        },
        "id": "iw5PNIZ683Yk",
        "outputId": "fb36e6fa-bdc3-4860-8454-ea187dd1e9d2"
      },
      "execution_count": null,
      "outputs": [
        {
          "output_type": "stream",
          "name": "stdout",
          "text": [
            "[1, 2, 3]\n"
          ]
        }
      ]
    },
    {
      "cell_type": "code",
      "source": [
        "my_int=42\n",
        "print(\"original\",my_int)"
      ],
      "metadata": {
        "id": "MdI8AXq77z57",
        "colab": {
          "base_uri": "https://localhost:8080/"
        },
        "outputId": "50d054d0-9a85-40d4-d350-5b0ecb8c7375"
      },
      "execution_count": null,
      "outputs": [
        {
          "output_type": "stream",
          "name": "stdout",
          "text": [
            "original 42\n"
          ]
        }
      ]
    },
    {
      "cell_type": "code",
      "source": [
        "my_list=[1,\"hello\",9.08,True]\n",
        "print(my_list)\n",
        "my_list.append(\"word\")\n",
        "print(my_list)\n",
        "my_list.remove(\"word\")\n",
        "print(my_list)"
      ],
      "metadata": {
        "id": "3_c3WmBQ7adM",
        "colab": {
          "base_uri": "https://localhost:8080/"
        },
        "outputId": "2ead3341-31ba-4603-9397-fceda06b965b"
      },
      "execution_count": null,
      "outputs": [
        {
          "output_type": "stream",
          "name": "stdout",
          "text": [
            "[1, 'hello', 9.08, True]\n",
            "[1, 'hello', 9.08, True, 'word']\n",
            "[1, 'hello', 9.08, True]\n"
          ]
        }
      ]
    },
    {
      "cell_type": "code",
      "source": [
        "my_tuple=(1,\"hello\",9.08,True)\n",
        "print(my_tuple)\n",
        "print(my_tuple[0])\n",
        "print(my_tuple[-1])\n"
      ],
      "metadata": {
        "id": "cfpSZuDDF6gW"
      },
      "execution_count": null,
      "outputs": []
    },
    {
      "cell_type": "code",
      "source": [],
      "metadata": {
        "id": "w_MZWUIPIGch"
      },
      "execution_count": null,
      "outputs": []
    },
    {
      "cell_type": "code",
      "source": [
        "for i in range(1,6):\n",
        "  print(i)"
      ],
      "metadata": {
        "colab": {
          "base_uri": "https://localhost:8080/"
        },
        "id": "cWhlOeV-HYWk",
        "outputId": "254ee388-7682-47e2-ce59-1abcfe8174f8"
      },
      "execution_count": null,
      "outputs": [
        {
          "output_type": "stream",
          "name": "stdout",
          "text": [
            "1\n",
            "2\n",
            "3\n",
            "4\n",
            "5\n"
          ]
        }
      ]
    },
    {
      "cell_type": "code",
      "source": [
        "i=0\n",
        "while i<=5:\n",
        "  print(i)\n",
        "  i+=1"
      ],
      "metadata": {
        "colab": {
          "base_uri": "https://localhost:8080/"
        },
        "id": "psUoOi6EISk9",
        "outputId": "cce7c92b-c5bb-4386-e6ac-aa190382fb85"
      },
      "execution_count": null,
      "outputs": [
        {
          "output_type": "stream",
          "name": "stdout",
          "text": [
            "0\n",
            "1\n",
            "2\n",
            "3\n",
            "4\n",
            "5\n"
          ]
        }
      ]
    },
    {
      "cell_type": "code",
      "source": [
        "number=int(input(\"Enter a number: \"))\n",
        "if number>0:\n",
        "  print(\"It is positive number\")\n",
        "elif number<0:\n",
        "  print(\"It is negative number\")\n",
        "else:\n",
        "  print(\"Zero\")"
      ],
      "metadata": {
        "colab": {
          "base_uri": "https://localhost:8080/"
        },
        "id": "h5fW05jYIS6r",
        "outputId": "0f8b2649-90c6-4434-d65b-fdabab3eb681"
      },
      "execution_count": null,
      "outputs": [
        {
          "output_type": "stream",
          "name": "stdout",
          "text": [
            "Enter a number: 0\n",
            "Zero\n"
          ]
        }
      ]
    },
    {
      "cell_type": "code",
      "source": [
        "def greet(name):\n",
        "  print(\"Hello\",name)\n",
        "\n",
        "name=\"Moksha\"\n",
        "greet(name)"
      ],
      "metadata": {
        "colab": {
          "base_uri": "https://localhost:8080/"
        },
        "id": "OdfKCy-tJ1xM",
        "outputId": "d32d3994-c672-487c-fbc5-45310cda7613"
      },
      "execution_count": null,
      "outputs": [
        {
          "output_type": "stream",
          "name": "stdout",
          "text": [
            "Hello Moksha\n"
          ]
        }
      ]
    },
    {
      "cell_type": "code",
      "source": [
        "def add(a,b):\n",
        "  print(a+b)\n",
        "\n",
        "a=5\n",
        "b=9\n",
        "add(a,b)"
      ],
      "metadata": {
        "colab": {
          "base_uri": "https://localhost:8080/"
        },
        "id": "DSbgYTxbQCO1",
        "outputId": "bb9c0cfb-d8b5-4792-bf66-5f378a879d81"
      },
      "execution_count": null,
      "outputs": [
        {
          "output_type": "stream",
          "name": "stdout",
          "text": [
            "14\n"
          ]
        }
      ]
    },
    {
      "cell_type": "code",
      "source": [],
      "metadata": {
        "id": "dGEtEUMWQahU"
      },
      "execution_count": null,
      "outputs": []
    }
  ]
}